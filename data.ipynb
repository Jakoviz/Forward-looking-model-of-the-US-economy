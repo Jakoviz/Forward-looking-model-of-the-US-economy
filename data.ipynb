{
 "cells": [
  {
   "cell_type": "code",
   "execution_count": 1,
   "id": "b1e290ce-69f1-427a-8e28-b35f78045f4c",
   "metadata": {},
   "outputs": [],
   "source": [
    "import pandas as pd"
   ]
  },
  {
   "cell_type": "code",
   "execution_count": 2,
   "id": "1f0339e6-31f0-446c-86a9-8880806aa12c",
   "metadata": {},
   "outputs": [],
   "source": [
    "df = pd.read_csv(\"BCI-values.csv\")\n",
    "target = pd.read_csv(\"USRECD.csv\")\n",
    "target = target.rename({\"DATE\": \"Date\"}, axis=1)\n",
    "df.Date = pd.to_datetime(df.Date)\n",
    "target.Date = pd.to_datetime(target.Date)\n",
    "df = pd.merge(df, target, on=\"Date\")\n",
    "df = df.sort_values(ascending=True, by=\"Date\")\n",
    "df = df.set_index(\"Date\")"
   ]
  },
  {
   "cell_type": "code",
   "execution_count": 3,
   "id": "d0e7e8e7-4ff5-4021-af75-796619421418",
   "metadata": {},
   "outputs": [
    {
     "data": {
      "text/plain": [
       "(2797, 4)"
      ]
     },
     "execution_count": 3,
     "metadata": {},
     "output_type": "execute_result"
    }
   ],
   "source": [
    "df.shape"
   ]
  },
  {
   "cell_type": "code",
   "execution_count": 4,
   "id": "d1f5eae5-6938-4b8c-9f89-03e58e3cbd46",
   "metadata": {},
   "outputs": [],
   "source": [
    "# ie = pd.read_csv(\"Yale IE.csv\")\n",
    "# ie = ie.drop(index=[0, 1, 2])\n",
    "# ie = ie.reset_index(drop=True)\n",
    "# ie = ie.rename(columns={\"Unnamed: 0\": \"Date\", \"Unnamed: 1\": \"SP\"})\n",
    "# ie.Date = pd.to_datetime(ie.Date)"
   ]
  },
  {
   "cell_type": "code",
   "execution_count": 5,
   "id": "089f8a78-838c-4d30-a67c-c62dbc05e6bb",
   "metadata": {},
   "outputs": [],
   "source": [
    "# df = pd.merge(df, ie, on=\"Date\")\n",
    "# df = df.sort_values(ascending=True, by=\"Date\")\n",
    "# df = df.set_index(\"Date\")"
   ]
  },
  {
   "cell_type": "code",
   "execution_count": 6,
   "id": "b58cdb8b-e7ea-49c7-971e-fbe618db8acf",
   "metadata": {},
   "outputs": [],
   "source": [
    "# ie.head()"
   ]
  },
  {
   "cell_type": "code",
   "execution_count": 7,
   "id": "7ddaa9d9-f6cb-4b5c-90b1-a24cd314b6f5",
   "metadata": {},
   "outputs": [
    {
     "data": {
      "text/html": [
       "<div>\n",
       "<style scoped>\n",
       "    .dataframe tbody tr th:only-of-type {\n",
       "        vertical-align: middle;\n",
       "    }\n",
       "\n",
       "    .dataframe tbody tr th {\n",
       "        vertical-align: top;\n",
       "    }\n",
       "\n",
       "    .dataframe thead th {\n",
       "        text-align: right;\n",
       "    }\n",
       "</style>\n",
       "<table border=\"1\" class=\"dataframe\">\n",
       "  <thead>\n",
       "    <tr style=\"text-align: right;\">\n",
       "      <th></th>\n",
       "      <th>BCI</th>\n",
       "      <th>BCIp</th>\n",
       "      <th>BCIg</th>\n",
       "      <th>USRECD</th>\n",
       "    </tr>\n",
       "    <tr>\n",
       "      <th>Date</th>\n",
       "      <th></th>\n",
       "      <th></th>\n",
       "      <th></th>\n",
       "      <th></th>\n",
       "    </tr>\n",
       "  </thead>\n",
       "  <tbody>\n",
       "    <tr>\n",
       "      <th>1967-01-06</th>\n",
       "      <td>100.2</td>\n",
       "      <td>95.6</td>\n",
       "      <td>0.0</td>\n",
       "      <td>0</td>\n",
       "    </tr>\n",
       "    <tr>\n",
       "      <th>1967-02-03</th>\n",
       "      <td>99.8</td>\n",
       "      <td>96.4</td>\n",
       "      <td>0.0</td>\n",
       "      <td>0</td>\n",
       "    </tr>\n",
       "    <tr>\n",
       "      <th>1967-02-11</th>\n",
       "      <td>104.6</td>\n",
       "      <td>94.3</td>\n",
       "      <td>0.0</td>\n",
       "      <td>0</td>\n",
       "    </tr>\n",
       "    <tr>\n",
       "      <th>1967-02-16</th>\n",
       "      <td>100.0</td>\n",
       "      <td>99.5</td>\n",
       "      <td>0.0</td>\n",
       "      <td>0</td>\n",
       "    </tr>\n",
       "    <tr>\n",
       "      <th>1967-02-23</th>\n",
       "      <td>99.6</td>\n",
       "      <td>93.1</td>\n",
       "      <td>0.0</td>\n",
       "      <td>0</td>\n",
       "    </tr>\n",
       "  </tbody>\n",
       "</table>\n",
       "</div>"
      ],
      "text/plain": [
       "              BCI  BCIp  BCIg  USRECD\n",
       "Date                                 \n",
       "1967-01-06  100.2  95.6   0.0       0\n",
       "1967-02-03   99.8  96.4   0.0       0\n",
       "1967-02-11  104.6  94.3   0.0       0\n",
       "1967-02-16  100.0  99.5   0.0       0\n",
       "1967-02-23   99.6  93.1   0.0       0"
      ]
     },
     "execution_count": 7,
     "metadata": {},
     "output_type": "execute_result"
    }
   ],
   "source": [
    "df.head()"
   ]
  },
  {
   "cell_type": "code",
   "execution_count": 8,
   "id": "974125e1-6ef3-447d-a5b0-6385de8a1b85",
   "metadata": {},
   "outputs": [],
   "source": [
    "df.to_csv(\"BCI_fixed.csv\")"
   ]
  },
  {
   "cell_type": "code",
   "execution_count": null,
   "id": "8a4642f9-fdf0-4773-a0aa-6675d56a1d9e",
   "metadata": {},
   "outputs": [],
   "source": []
  }
 ],
 "metadata": {
  "kernelspec": {
   "display_name": "Python 3 (ipykernel)",
   "language": "python",
   "name": "python3"
  },
  "language_info": {
   "codemirror_mode": {
    "name": "ipython",
    "version": 3
   },
   "file_extension": ".py",
   "mimetype": "text/x-python",
   "name": "python",
   "nbconvert_exporter": "python",
   "pygments_lexer": "ipython3",
   "version": "3.9.7"
  }
 },
 "nbformat": 4,
 "nbformat_minor": 5
}
