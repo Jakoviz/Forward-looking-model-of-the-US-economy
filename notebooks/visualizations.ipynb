{
 "cells": [
  {
   "cell_type": "code",
   "execution_count": 1,
   "id": "b6a67cb6-3d8c-4733-ad7e-df143d85303c",
   "metadata": {},
   "outputs": [],
   "source": [
    "import bqplot.pyplot as plt\n",
    "import pandas as pd\n",
    "from bqplot.traits import convert_to_date\n",
    "from bqplot import ColorScale\n",
    "import datetime\n",
    "import pickle\n",
    "import numpy as np"
   ]
  },
  {
   "cell_type": "code",
   "execution_count": 2,
   "id": "235cc82c-1e5c-4a7e-b461-a9c9eae34e84",
   "metadata": {
    "tags": []
   },
   "outputs": [],
   "source": [
    "features = ['CAPE', \"BAAFFM\", \"BCI\", \"CCI\", \"CLI\", \"IJC\", \"PMIC\", \"T10Y2Y\", \"T10Y3M\"]\n",
    "model_names_classification = [\"Logistic Regression\", \"Penalized SVM\", \"Random Forest\", \"LSTM\"]\n",
    "model_names_regression = [\"Linear Regression\", \"LSTM\"]\n",
    "target_variables_classification = [\"USRECD\"]\n",
    "target_variables_regression = [\"GDP_rate\"]"
   ]
  },
  {
   "cell_type": "markdown",
   "id": "28a2af3e-92dd-4f83-ba64-5e359cd3288a",
   "metadata": {},
   "source": [
    "# Overview"
   ]
  },
  {
   "cell_type": "markdown",
   "id": "904fc5ba-72e8-41df-b4a0-2cd696861de9",
   "metadata": {},
   "source": [
    "We explored two different tasks, classification and regression.\n",
    "\n",
    "For the classification part, the task is to predict whether the US would be in a recession 180 days later, using the current features. Our models achieved considerable performances in this task.\n",
    "\n",
    "For the regression part, the task is to predict the exact GDP growth rate and the exact GDP value. Our models' performances were not that good, so we won't focus on them."
   ]
  },
  {
   "cell_type": "markdown",
   "id": "37d77ad2-df41-42da-8324-e51c53bdb696",
   "metadata": {},
   "source": [
    "# Comparisons of model performance"
   ]
  },
  {
   "cell_type": "markdown",
   "id": "e3da745c-3e6d-49f7-a7e3-7848bff323c0",
   "metadata": {},
   "source": [
    "## Validation\n",
    "\n",
    "We used TimeSeriesSplit with 3 splits to validate the performances of our models. The following graph displays comparisons between different models."
   ]
  },
  {
   "cell_type": "code",
   "execution_count": 3,
   "id": "047b631c-2460-4588-9096-b96fdd3bbc4c",
   "metadata": {},
   "outputs": [
    {
     "data": {
      "application/vnd.jupyter.widget-view+json": {
       "model_id": "18fac988af9a4aacb6701fd00615dd38",
       "version_major": 2,
       "version_minor": 0
      },
      "text/plain": [
       "VBox(children=(Figure(axes=[Axis(scale=OrdinalScale()), Axis(orientation='vertical', scale=LinearScale())], fi…"
      ]
     },
     "metadata": {},
     "output_type": "display_data"
    }
   ],
   "source": [
    "plt.figure()\n",
    "plt.title('Average AUC ROC, USRECD')\n",
    "x = ['Logistic Regression', 'Penalized SVM', 'Random Forest', 'LSTM']\n",
    "y = [0.831, 0.760, 0.825, 0.823]\n",
    "plt.bar(x, y)\n",
    "plt.show()"
   ]
  },
  {
   "cell_type": "code",
   "execution_count": 4,
   "id": "330d850e-55a9-4f39-bc4b-621bd893cc3f",
   "metadata": {},
   "outputs": [
    {
     "data": {
      "application/vnd.jupyter.widget-view+json": {
       "model_id": "ca4b5247f2ec4e0d8f0296647bd6a683",
       "version_major": 2,
       "version_minor": 0
      },
      "text/plain": [
       "VBox(children=(Figure(axes=[Axis(scale=OrdinalScale()), Axis(orientation='vertical', scale=LinearScale())], fi…"
      ]
     },
     "metadata": {},
     "output_type": "display_data"
    }
   ],
   "source": [
    "plt.figure()\n",
    "plt.title('Average accuracy, USRECD')\n",
    "x = ['Logistic Regression', 'Penalized SVM', 'Random Forest', 'LSTM']\n",
    "y = [0.899, 0.595, 0.906, 0.906]\n",
    "plt.bar(x, y)\n",
    "plt.show()"
   ]
  },
  {
   "cell_type": "code",
   "execution_count": 5,
   "id": "6a55ce7f-10d9-4849-ae2a-c8e2a63bf49f",
   "metadata": {},
   "outputs": [
    {
     "data": {
      "application/vnd.jupyter.widget-view+json": {
       "model_id": "a015f2d8bf9e4be094f80e4f11f06289",
       "version_major": 2,
       "version_minor": 0
      },
      "text/plain": [
       "VBox(children=(Figure(axes=[Axis(scale=OrdinalScale()), Axis(orientation='vertical', scale=LinearScale())], fi…"
      ]
     },
     "metadata": {},
     "output_type": "display_data"
    }
   ],
   "source": [
    "plt.figure()\n",
    "plt.title('R2 Score, GDP growth rate')\n",
    "x = ['Linear Regression', 'LSTM']\n",
    "y = [-1.514, -0.463]\n",
    "plt.bar(x, y)\n",
    "plt.show()"
   ]
  },
  {
   "cell_type": "markdown",
   "id": "e85f3a47-bc94-4eb6-beb8-bbb63337febe",
   "metadata": {},
   "source": [
    "## Test\n",
    "\n",
    "We tested our models' performances on a test set, which was never used for training. The following graph displays comparisons between different models. For the purpose of comparisons, we also included results from naive methods."
   ]
  },
  {
   "cell_type": "code",
   "execution_count": 6,
   "id": "ac7fad19-34c2-4c72-907d-70099562ca49",
   "metadata": {},
   "outputs": [
    {
     "data": {
      "application/vnd.jupyter.widget-view+json": {
       "model_id": "ea7854a2b7174302a56cacbcb3144ef7",
       "version_major": 2,
       "version_minor": 0
      },
      "text/plain": [
       "VBox(children=(Figure(axes=[Axis(scale=OrdinalScale()), Axis(orientation='vertical', scale=LinearScale())], fi…"
      ]
     },
     "metadata": {},
     "output_type": "display_data"
    }
   ],
   "source": [
    "plt.figure()\n",
    "plt.title('AUC ROC, USRECD')\n",
    "x = ['Logistic Regression', 'Penalized SVM', 'Random Forest', 'LSTM', 'Baseline #1', 'Baseline #2', 'Baseline #3']\n",
    "y = [0.948, 0.918, 0.923, 0.743, 0.5, 0.508, 0.5]\n",
    "plt.bar(x, y)\n",
    "plt.show()"
   ]
  },
  {
   "cell_type": "code",
   "execution_count": 7,
   "id": "a9d1684f-d191-4091-9451-bd41004bd8ef",
   "metadata": {},
   "outputs": [
    {
     "data": {
      "application/vnd.jupyter.widget-view+json": {
       "model_id": "fabe398cb6a54d539f39fa895ff1ea96",
       "version_major": 2,
       "version_minor": 0
      },
      "text/plain": [
       "VBox(children=(Figure(axes=[Axis(scale=OrdinalScale()), Axis(orientation='vertical', scale=LinearScale())], fi…"
      ]
     },
     "metadata": {},
     "output_type": "display_data"
    }
   ],
   "source": [
    "plt.figure()\n",
    "plt.title('Accuracy, USRECD')\n",
    "x = ['Logistic Regression', 'Penalized SVM', 'Random Forest', 'LSTM', 'Baseline #1', 'Baseline #2', 'Baseline #3']\n",
    "y = [0.963, 0.963, 0.963, 0.962, 0.963, 0.871, 0.963]\n",
    "plt.bar(x, y)\n",
    "plt.show()"
   ]
  },
  {
   "cell_type": "code",
   "execution_count": 8,
   "id": "646a0b13-5943-4084-9b39-a2e6ff1d4430",
   "metadata": {},
   "outputs": [
    {
     "data": {
      "application/vnd.jupyter.widget-view+json": {
       "model_id": "0532e2d854cc4cfdbe2d43b8c4616a98",
       "version_major": 2,
       "version_minor": 0
      },
      "text/plain": [
       "VBox(children=(Figure(axes=[Axis(scale=OrdinalScale()), Axis(orientation='vertical', scale=LinearScale())], fi…"
      ]
     },
     "metadata": {},
     "output_type": "display_data"
    }
   ],
   "source": [
    "plt.figure()\n",
    "plt.title('R2 Score, GDP growth rate')\n",
    "x = ['Linear Regression', 'LSTM']\n",
    "y = [0.350, -0.067]\n",
    "plt.bar(x, y)\n",
    "plt.show()"
   ]
  },
  {
   "cell_type": "code",
   "execution_count": 9,
   "id": "f611b603-cbcc-46ca-9ac5-3ae6b8aff76f",
   "metadata": {},
   "outputs": [],
   "source": [
    "def plot(model_name, target_variable):\n",
    "    predictions_path = f'../predictions/{model_name}_{target_variable}.pkl'\n",
    "    predictions = pickle.load(open(predictions_path, 'rb'))\n",
    "    plt.figure()\n",
    "    plt.title(model_name + ' ' + target_variable)\n",
    "    plt.plot(x=dates, y=df[target_variable], colors='blue')\n",
    "    plt.plot(x=convert_to_date(extended_dates, fmt='%Y-%m-%d'), y=predictions, colors='red')\n",
    "    plt.show()"
   ]
  },
  {
   "cell_type": "code",
   "execution_count": null,
   "id": "4195740b-17d9-4841-b5e3-57caed06a707",
   "metadata": {},
   "outputs": [],
   "source": []
  }
 ],
 "metadata": {
  "kernelspec": {
   "display_name": "Python 3 (ipykernel)",
   "language": "python",
   "name": "python3"
  },
  "language_info": {
   "codemirror_mode": {
    "name": "ipython",
    "version": 3
   },
   "file_extension": ".py",
   "mimetype": "text/x-python",
   "name": "python",
   "nbconvert_exporter": "python",
   "pygments_lexer": "ipython3",
   "version": "3.9.7"
  }
 },
 "nbformat": 4,
 "nbformat_minor": 5
}
